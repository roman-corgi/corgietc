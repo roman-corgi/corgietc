{
 "cells": [
  {
   "cell_type": "markdown",
   "id": "9bbdbe86-3d9b-4df8-8069-75a0dc28cd16",
   "metadata": {},
   "source": [
    "# Demo 1: Anatomy of an Integration Time Calculation\n",
    "\n",
    "This sheet walks through the basics of exposure time calculations and describes each of the required inputs.\n",
    "\n",
    "If running via Google Colab, you must first execute the contents of notebook `00_Google_Colab_Setup.ipynb` (only if you have never done so previously). Then execute all cells tagged with &#128992;.  If running via a local installation, you should skip all of the colab-specific (&#128992;) cells."
   ]
  },
  {
   "cell_type": "markdown",
   "id": "55100749-7ed1-45c0-b806-c0852a65fb90",
   "metadata": {
    "id": "kOGZXwQ3bBt-"
   },
   "source": [
    "## &#128992; Setup for Google Colab Use"
   ]
  },
  {
   "cell_type": "markdown",
   "id": "91acefdf-b9fd-439a-8e35-37d00b6a80e6",
   "metadata": {
    "id": "lKTP9aUCbCJE"
   },
   "source": [
    "### &#128992; Run the next cell to mount the Google Drive\n",
    "\n",
    "You will receive some or all of the following prompts:\n",
    "\n",
    "* Warning: This notebook was not authored by Google - Click \"Run Anyway\" \n",
    "* Permit this notebook to access your Google Drive files? - Click \"Connect to Google Drive\"\n",
    "* A new browser window will prompt you to select an account and authorize access\n",
    "  * Select the Google account you wish to use and click Continue on each subsequent screen until the dialog vanishes\n",
    "\n",
    "Upon completion of cell execution, you should see `Mounted at /content/drive`"
   ]
  },
  {
   "cell_type": "code",
   "execution_count": null,
   "id": "d5a335a0-c5bd-4b3e-b27e-38c7f1d9dd5a",
   "metadata": {
    "id": "_J6JDFZUbI-k"
   },
   "outputs": [],
   "source": [
    "from google.colab import drive\n",
    "drive.mount('/content/drive')"
   ]
  },
  {
   "cell_type": "markdown",
   "id": "7f437665-5999-4b53-8feb-3d9bd4c38291",
   "metadata": {
    "id": "VguVKE-obVLy"
   },
   "source": [
    "### &#128992; Run the next cell to change to the corgietc directory and install the required software\n",
    "\n",
    "This process should take less than a minute, but, depending on bandwidth availability, may take as long as a few minutes. You will see a variety of messages about package downloads.  Upon completion of cell execution, you should see `Sucessfully installed` followed by a list of installed packages and their versions.\n",
    "\n",
    "You may see the prompt \"Restart session\".  You do not need to do this - click 'Cancel'."
   ]
  },
  {
   "cell_type": "code",
   "execution_count": null,
   "id": "b333dad4-8c24-4daf-8073-797e393d2413",
   "metadata": {
    "id": "DBntQLYvbaoO"
   },
   "outputs": [],
   "source": [
    "# This cell should *only* be executed if running the notebook in Google Colab\n",
    "import os\n",
    "\n",
    "# Google top level drive dir\n",
    "drive_dir = \"/content/drive/MyDrive/\"\n",
    "\n",
    "# directory path\n",
    "corgietc_dir = 'corgietc'\n",
    "corgietc_path = os.path.join(drive_dir, corgietc_dir)\n",
    "cgi_noise_repo_path = os.path.join(corgietc_path, \"cgi_noise\")\n",
    "corgietc_repo_path = os.path.join(corgietc_path, \"corgietc\")\n",
    "corgietc_notebooks_path = os.path.join(corgietc_repo_path, \"Notebooks\")\n",
    "\n",
    "# Change to the cgi_noise repo path and update the repo\n",
    "os.chdir(cgi_noise_repo_path)\n",
    "!git pull\n",
    "\n",
    "# Install the backend and all requirements - this can also take a little while\n",
    "!pip install .\n",
    "\n",
    "# Change to the corgietc repo path and update the repo\n",
    "os.chdir(corgietc_repo_path)\n",
    "!git pull\n",
    "\n",
    "# Install the backend and all requirements - this can also take a little while\n",
    "!pip install .\n",
    "\n",
    "# Refresh package list to pick up new installations\n",
    "import site\n",
    "site.main()\n",
    "\n",
    "# Change to the Notebooks directory\n",
    "os.chdir(corgietc_notebooks_path)"
   ]
  },
  {
   "cell_type": "markdown",
   "id": "dfd153ec-515f-4e34-ba00-eb655c0629e2",
   "metadata": {
    "id": "r8On4Kufbj4d"
   },
   "source": [
    "### &#128992; Import jupyter widget for Colab"
   ]
  },
  {
   "cell_type": "code",
   "execution_count": null,
   "id": "d50dd23b-18e0-4633-bd2d-1b40b1848f06",
   "metadata": {
    "id": "Iu85wz45brWA"
   },
   "outputs": [],
   "source": [
    "# need to import third party jupyter widget\n",
    "from google.colab import output\n",
    "output.enable_custom_widget_manager()"
   ]
  },
  {
   "cell_type": "markdown",
   "id": "d4ba0ea9-e66f-468b-a19d-db1b69d078d5",
   "metadata": {},
   "source": [
    "## All Cells from this point should be run for both Colab and local installations"
   ]
  },
  {
   "cell_type": "code",
   "execution_count": 1,
   "id": "59f5c9d5-5369-4785-9a42-f3aa28585900",
   "metadata": {},
   "outputs": [],
   "source": [
    "# import all required packages\n",
    "import corgietc\n",
    "import os\n",
    "import json\n",
    "import EXOSIMS.Prototypes.TargetList\n",
    "import EXOSIMS.Prototypes.TimeKeeping\n",
    "import copy\n",
    "import astropy.units as u\n",
    "import numpy as np\n",
    "import matplotlib.pyplot as plt"
   ]
  },
  {
   "cell_type": "markdown",
   "id": "d417fec1-a74a-4cc0-b971-50b320166e22",
   "metadata": {},
   "source": [
    "## Introduction\n",
    "\n",
    "The Roman Coronagraph Exposure Time Calculator (ETC; ``corgietc``) is implemented by integrating two Python packages: ``cgi_noise`` and ``EXOSIMS``.  ``cgi_noise`` provides detailed modeling of the Roman Coronagraph and the definitions of the Roman Coronagraph observing modes (scenarios), along with basic models for astrophysical inputs.  ``EXOSIMS`` is a mission modeling framework, and provides its own ETCs, along with detailed astrophysical models and other useful utilities.  ``corgietc`` links these two packages together by implementing an ``EXOSIMS`` ``OpticalSystem`` implementation that calls ``cgi_noise`` for various calculations. This allows us to use the ``cgi_noise`` instrument model with the various inputs that can be computed by ``EXOSIMS``."
   ]
  },
  {
   "cell_type": "markdown",
   "id": "34f6f88f-8f78-47d8-b0d3-1695c0561ed8",
   "metadata": {},
   "source": [
    "## Required Inputs for Computing Integration Time\n",
    "\n",
    "Point-source integration time calculations are provided by the `calc_intTime` method of an `EXOSIMS` `OpticalSystem` module (such as ``corgietc``).  This method takes 7 required inputs and one optional one:\n",
    "\n",
    "1. An `EXOSIMS` `TargetList` object: this includes all information about the targets (stars) that you might want to observe, along with utilities for computing stellar photometry.  Details on the `TargetList` class are available here: https://exosims.readthedocs.io/en/latest/targetlist.html and details on the stellar photometric modeling are available here: https://exosims.readthedocs.io/en/latest/concepts.html#photometry\n",
    "2. The specific subset of targets you wish to compute integration times for (`sInds`).  `TargetList` stores all stellar information in equally-sized arrays, so this input is an array (or list, or other iterable) of which target indices you wish to select.  If your `TargetList` only contains one target, this input would be 0.\n",
    "3. The surface brightness of local zodiacal light to assume for the calculation (`fZ`).  This must be an `astropy` `Quantity` object (https://docs.astropy.org/en/stable/units/index.html) whose contents are an array of either size 1 (in which case the same value is used for all calculations) or of an equal size to the `sInds` input. The units must be consistent with arcsec$^{-2}$. For details on the local zodiacal light model, see: https://exosims.readthedocs.io/en/latest/concepts.html#zodiacal-light\n",
    "4. The intensity of the exo-zodiacal light to assume for the calculation (`JEZ`).  This must be structured in the same way as the `fZ` input, but with units consistent with photons s$^{-1}$ m$^{-2}$ arcsec$^{-2}$. For details on the exo-zodiacal light model, see: https://exosims.readthedocs.io/en/latest/concepts.html#exozodiacal-light\n",
    "5. The desired $\\Delta$magnitude between planet and star you wish to reach (`dMag`).  This must be an iterable of either size 1 (same for all calculations) or of equal size to `sInds`. This value sets the integration depth you wish to achieve.\n",
    "6. The angular separation at which to perform calculations.  Because coronagraph performance varies as a function of angular separation, we must specify where in the throughput/contrast/etc. curves we wish to take our coronagraph performance values from.  That location is specified by this input, which must be an `astropy` `Quantity` array (with the same dimensionality assumptions as the other inputs) with units compatible with arcseconds. For more information on the parametrization of coronagraph performance, see here: https://exosims.readthedocs.io/en/latest/opticalsystem.html#standardized-coronagraph-parameters. Note that for the Roman coronagraph, we do **not** parametrize by stellar angular diameter - the assumption is that all of our target stars are fully unresolved.\n",
    "7. The observing mode/scenario (`mode`).  An observing mode is the combination of a specific coronagraph with a specific detector in a specific bandpass.  It also defines the target signal-to-noise ratio (SNR) that you wish to achieve for your observation.  More details here: https://exosims.readthedocs.io/en/latest/opticalsystem.html#optical-system-definition\n",
    "8. (Optional) An `EXOSIMS` `TimeKeeping` object.  As the name implies, a `TimeKeeping` object tracks elapsed mission time (amongst other time-associated utilities.  Time-on-orbit is an input into the integration time because we have a degradation model for our detector, which attempts to predict performance changes due to radiation exposure over the length of the mission.  If omitted, ``corgietc`` automatically assumes 21 months at L2. Note that the degradation model implemented by ``cgi_noise`` is only valid out to 63 months - past that, we cannot really trust the results."
   ]
  },
  {
   "cell_type": "markdown",
   "id": "e942bd72-0a7a-42c3-869c-2954fc0f5e0f",
   "metadata": {},
   "source": [
    "## Constructing EXOSIMS Objects\n",
    "\n",
    "All ``EXOSIMS`` objects are constructed via an input specification - a dictionary of key/value pairs, that can be read from a JSON-formatted file stored on disk.  Passing such an input specification to a `TargetList` automatically creates the `TargetList`, along with all other ``EXOSIMS`` modules required by the ``TargetList``, which includes the `OpticalSystem` and `ZodiacalLight` modules (the ones we need for doing our calculations).  More info on `EXOSIMS` objects is available here: https://exosims.readthedocs.io/en/latest/intro.html#framework\n",
    "\n",
    "`corgietc` provides a default input specification, which we will now load:"
   ]
  },
  {
   "cell_type": "code",
   "execution_count": 2,
   "id": "cee41814-ab3c-4bc8-b997-5f4c3b9aaf96",
   "metadata": {},
   "outputs": [],
   "source": [
    "# This loads the default input specification\n",
    "scriptfile = os.path.join(os.environ[\"CORGIETC_DATA_DIR\"], \"scripts\", \"CGI_Noise.json\")\n",
    "with open(scriptfile, \"r\") as f:\n",
    "    specs = json.loads(f.read())"
   ]
  },
  {
   "cell_type": "markdown",
   "id": "2dd95f82-5361-41fb-864d-9a582ae2b8df",
   "metadata": {},
   "source": [
    "The component of the input specification that tells `EXOSIMS` what types of objects to build is called `modules`:"
   ]
  },
  {
   "cell_type": "code",
   "execution_count": 3,
   "id": "e0130c7f-c6f4-4aa6-8797-c4a234704c14",
   "metadata": {},
   "outputs": [
    {
     "data": {
      "text/plain": [
       "{'PlanetPopulation': ' ',\n",
       " 'StarCatalog': ' ',\n",
       " 'OpticalSystem': '$CORGIETC_DATA_DIR/../corgietc.py',\n",
       " 'ZodiacalLight': 'Stark',\n",
       " 'BackgroundSources': 'GalaxiesFaintStars',\n",
       " 'PlanetPhysicalModel': 'ForecasterMod',\n",
       " 'Observatory': ' ',\n",
       " 'TimeKeeping': ' ',\n",
       " 'PostProcessing': ' ',\n",
       " 'Completeness': ' ',\n",
       " 'TargetList': ' ',\n",
       " 'SimulatedUniverse': ' ',\n",
       " 'SurveySimulation': ' ',\n",
       " 'SurveyEnsemble': ' '}"
      ]
     },
     "execution_count": 3,
     "metadata": {},
     "output_type": "execute_result"
    }
   ],
   "source": [
    "specs[\"modules\"]"
   ]
  },
  {
   "cell_type": "markdown",
   "id": "c4bf249f-716a-4b1e-98ff-1ec2319a6f61",
   "metadata": {},
   "source": [
    "All entries that are blank spaces indicate that the prototype (default) object type should be built.  As you can see, the template input specification sets the `OpticalSystem` to `corgietc`.  By leaving the `StarCatalog` module blank, we are generating a fake catalog of stars (in fact, just one star). Let's instantiate the `TargetList` and take a look."
   ]
  },
  {
   "cell_type": "code",
   "execution_count": 4,
   "id": "979328ee-407d-4e89-8a19-8217b229aec3",
   "metadata": {},
   "outputs": [
    {
     "name": "stdout",
     "output_type": "stream",
     "text": [
      "Imported StarCatalog (prototype) from EXOSIMS.Prototypes.StarCatalog\n",
      "Imported corgietc (named file) from /Users/ds264/Do[...]ietc/corgietc/corgietc.py\n",
      "Imported Stark (implementation) from EXOSIMS.ZodiacalLight.Stark\n",
      "Imported PostProcessing (prototype) from EXOSIMS.Prototypes.PostProcessing\n",
      "Imported GalaxiesFaintStars (implementation) from EXOSIMS.BackgroundSources.GalaxiesFaintStars\n",
      "Imported Completeness (prototype) from EXOSIMS.Prototypes.Completeness\n",
      "Imported PlanetPopulation (prototype) from EXOSIMS.Prototypes.PlanetPopulation\n",
      "Imported ForecasterMod (implementation) from EXOSIMS.PlanetPhysicalModel.ForecasterMod\n",
      "1 targets imported from star catalog.\n",
      "1 targets remain after removing those where spectral class cannot be established.\n",
      "1 targets remain after removing white dwarfs and subdwarfs\n",
      "1 targets remain after nan filtering.\n",
      "1 targets remain after removing zero luminosity targets.\n",
      "Loaded JEZ0 values from /Users/ds264/.EXOSIMS/cache/TargetList_StarCatalognStars_1_mode_893172a2633bcdcb152ce604d03e7bc9.JEZ0\n",
      "Loaded star fluxes values from /Users/ds264/.EXOSIMS/cache/TargetList_StarCatalog_nStars_1_mode_893172a2633bcdcb152ce604d03e7bc9.star_fluxes\n",
      "Loaded intCutoff_dMag values from /Users/ds264/.EXOSIMS/cache/TargetList_StarCatalog_corgietc_Stark_vals_4533fa052f4681ecd2109e00158231a9_mode_893172a2633bcdcb152ce604d03e7bc9.intCutoff_dMag\n",
      "Loaded intCutoff_comp values from /Users/ds264/.EXOSIMS/cache/TargetList_StarCatalog_Completeness_vals_4db58c34904f1e34847688feabdc35d6.intCutoff_comp\n"
     ]
    },
    {
     "name": "stderr",
     "output_type": "stream",
     "text": [
      "/Users/ds264/Documents/gitrepos/EXOSIMS/EXOSIMS/Prototypes/TargetList.py:381: UserWarning: binary_filter is None but filterBinaries is False. Using binary_filter value of None.\n",
      "  warnings.warn(\n"
     ]
    }
   ],
   "source": [
    "# Build the targetlist object\n",
    "TL = EXOSIMS.Prototypes.TargetList.TargetList(**copy.deepcopy(specs))\n",
    "OS = TL.OpticalSystem"
   ]
  },
  {
   "cell_type": "markdown",
   "id": "f3ab4031-cba0-4a72-afcb-fe3582c71b92",
   "metadata": {},
   "source": [
    "We can inspect the single fake target we created:"
   ]
  },
  {
   "cell_type": "code",
   "execution_count": 5,
   "id": "55216701-f178-4da2-a218-593bd4747b8f",
   "metadata": {},
   "outputs": [
    {
     "name": "stdout",
     "output_type": "stream",
     "text": [
      "Name: ['Prototype Star 0']\n",
      "is located at <SkyCoord (ICRS): (ra, dec, distance) in (deg, deg, pc)\n",
      "    [(0., 0., 10.)]>\n",
      "and has a V band magnitude of [5.]\n"
     ]
    }
   ],
   "source": [
    "# let's check on the target\n",
    "print(f\"Name: {TL.Name}\")\n",
    "print(f\"is located at {TL.coords}\")\n",
    "print(f\"and has a V band magnitude of {TL.Vmag}\")"
   ]
  },
  {
   "cell_type": "markdown",
   "id": "3e1825fb-ddf0-4f10-8b68-37db9f853c4e",
   "metadata": {},
   "source": [
    "The template specifications have created a 5th magnitude star (in V band) located 10 parsecs away. \n",
    "\n",
    "While we're here, we'll also create the optional `TimeKeeping` object, and set the current mission time to 21 months (matching the default):"
   ]
  },
  {
   "cell_type": "code",
   "execution_count": 6,
   "id": "1cbc0750-dd52-4ca0-951e-c8e0dea1fc49",
   "metadata": {},
   "outputs": [
    {
     "name": "stdout",
     "output_type": "stream",
     "text": [
      "OBendTimes is: [1917.5625] d\n"
     ]
    }
   ],
   "source": [
    "# create a Timekeeping object and advance the mission time a bit\n",
    "TK = EXOSIMS.Prototypes.TimeKeeping.TimeKeeping(missionLife = 5.25)   # 63 months in years is 5.25, 21 months is 1.75\n",
    "TK.allocate_time(21*30.4375*u.d);"
   ]
  },
  {
   "cell_type": "markdown",
   "id": "544b38da-ce6a-4a21-a435-0942e4cf9fc9",
   "metadata": {},
   "source": [
    "## Generating Integration Time Calculation Inputs\n",
    "\n",
    "We will now generate input values for each of the `calc_intTime` inputs.  \n",
    "\n",
    "### 1. `TargetList`\n",
    "We already have our `TargetList` object, so this is done.\n",
    "\n",
    "### 2. `sInds` \n",
    "The target listincludes only one target, so:"
   ]
  },
  {
   "cell_type": "code",
   "execution_count": 7,
   "id": "56a4ba0c-de79-48ea-8e85-019c45e128aa",
   "metadata": {},
   "outputs": [],
   "source": [
    "sInds = 0"
   ]
  },
  {
   "cell_type": "markdown",
   "id": "3751dfc6-0227-4190-97ca-b3d91a837d3a",
   "metadata": {},
   "source": [
    "### 3. `fZ`\n",
    "For the local zodiacal light, the `TargetList` provides an attribute with a default value (equivalent to a local zodi brightness of 23 mag arcsec$^{-2}$:"
   ]
  },
  {
   "cell_type": "code",
   "execution_count": 8,
   "id": "6ecc3fa7-f889-47d5-993b-e650ded0c79c",
   "metadata": {},
   "outputs": [
    {
     "data": {
      "text/latex": [
       "$[6.3095734 \\times 10^{-10}] \\; \\mathrm{\\frac{1}{arcsec^{2}}}$"
      ],
      "text/plain": [
       "<Quantity [6.30957344e-10] 1 / arcsec2>"
      ]
     },
     "execution_count": 8,
     "metadata": {},
     "output_type": "execute_result"
    }
   ],
   "source": [
    "fZ = np.repeat(TL.ZodiacalLight.fZ0, 1)\n",
    "fZ"
   ]
  },
  {
   "cell_type": "markdown",
   "id": "48f99288-f06f-40f5-8c98-b2d9d2376687",
   "metadata": {},
   "source": [
    "Note the use of the `numpy` `repeat` method to make this an iterable (as required).\n",
    "\n",
    "### 7. `mode` \n",
    "\n",
    "We're going to go a bit out of order and specify our observing mode next, as it is required for some of the other things we need to compute. All observing modes are stored in `OpticalSystem` attribute `observingModes`.  For `corgietc`, all modes have a `Scenario` keyword, and we can print these out:"
   ]
  },
  {
   "cell_type": "code",
   "execution_count": 9,
   "id": "d4f59b69-c9c1-43ca-9610-963e4f0cc62b",
   "metadata": {},
   "outputs": [
    {
     "name": "stdout",
     "output_type": "stream",
     "text": [
      "OPT_IMG_NFB1_HLC\n"
     ]
    }
   ],
   "source": [
    "for mode in OS.observingModes:\n",
    "    print(mode[\"Scenario\"])"
   ]
  },
  {
   "cell_type": "markdown",
   "id": "f80e456a-76ba-4309-a65a-f27582255b62",
   "metadata": {},
   "source": [
    "We will pick the first mode from the list - optimistic HLC with imaging in Band 1:"
   ]
  },
  {
   "cell_type": "code",
   "execution_count": 10,
   "id": "41ea627b-8a9b-4636-a160-2557d907da25",
   "metadata": {},
   "outputs": [],
   "source": [
    "mode = OS.observingModes[0]"
   ]
  },
  {
   "cell_type": "markdown",
   "id": "5edb0a88-ca68-44b2-8ef8-43b16264f6c9",
   "metadata": {},
   "source": [
    "### 4. `JEZ`\n",
    "Similarly, the `TargetList` pre-computes the exozodi of all targets for all observing modes at 1 AU separation.  We can then scale these to the actual planet location desired.  In this case, let's assume a planet at 4.1536 AU (to match a default used for testing in ``cgi_noise``):"
   ]
  },
  {
   "cell_type": "code",
   "execution_count": 11,
   "id": "2eec4341-e5f7-4c1b-9edb-37d05a61fe7d",
   "metadata": {},
   "outputs": [
    {
     "data": {
      "text/latex": [
       "$[0.36174074] \\; \\mathrm{\\frac{ph}{s\\,arcsec^{2}\\,m^{2}}}$"
      ],
      "text/plain": [
       "<Quantity [0.36174074] ph / (s arcsec2 m2)>"
      ]
     },
     "execution_count": 11,
     "metadata": {},
     "output_type": "execute_result"
    }
   ],
   "source": [
    "JEZ = TL.JEZ0[mode[\"hex\"]]/(4.1536**2)\n",
    "JEZ"
   ]
  },
  {
   "cell_type": "markdown",
   "id": "bb572d2b-689d-4dae-a994-d8619c9363e2",
   "metadata": {},
   "source": [
    "There was a lot going on in that last call - basically, `TL.JEZ0` is a dictionary of values linked to each mode, indexed by a unique string describing that mode, that is stored in the mode's dictionary under key `hex`.  So, we pulled the value associated with the our selected observing mode, and then scaled it by the distance to the planet (in AU) squared. \n",
    "\n",
    "### 5. `dMag`\n",
    "We will just set this to an arbitrary value for now (again selected to match ``cgi_noise`` test defaults."
   ]
  },
  {
   "cell_type": "code",
   "execution_count": 12,
   "id": "80b4e0b0-8a78-4336-b0bd-551e7abb082f",
   "metadata": {},
   "outputs": [],
   "source": [
    "dMag = np.array([17.5])"
   ]
  },
  {
   "cell_type": "markdown",
   "id": "21328505-c5f3-44b3-8f0d-b6debf0ec345",
   "metadata": {},
   "source": [
    "### 6. `WA`\n",
    "\n",
    "We wish to use 7.5 $\\lambda/D$ as the coronagraph operating point (again matching ``cgi_noise`` test defaults). The input needs to have physical angle values, so we will scale it by the mode's wavelength and the Roman primary diameter:"
   ]
  },
  {
   "cell_type": "code",
   "execution_count": 13,
   "id": "27f2e3a2-0c95-4cc1-a92a-6c737609d1f9",
   "metadata": {},
   "outputs": [
    {
     "data": {
      "text/latex": [
       "$[0.37643545]\\mathrm{{}^{\\prime\\prime}}$"
      ],
      "text/plain": [
       "<Quantity [0.37643545] arcsec>"
      ]
     },
     "execution_count": 13,
     "metadata": {},
     "output_type": "execute_result"
    }
   ],
   "source": [
    "WA = np.array([7.5]) * (mode[\"lam\"]/OS.pupilDiam).to(u.arcsec, equivalencies=u.dimensionless_angles())\n",
    "WA"
   ]
  },
  {
   "cell_type": "markdown",
   "id": "dc39ab7b-45b4-440a-8b8f-c43395030be4",
   "metadata": {},
   "source": [
    "Note the use of the `astropy` equivalencies to make sure that we are properly treating $\\lambda/D$ as an angle."
   ]
  },
  {
   "cell_type": "markdown",
   "id": "748ff958-868a-4163-9b10-d4494758aa66",
   "metadata": {},
   "source": [
    "## Running the integration time calculation\n",
    "\n",
    "We have all the inputs set up, so now it's just a matter of calling the method:"
   ]
  },
  {
   "cell_type": "code",
   "execution_count": 14,
   "id": "650b0ae3-5303-4a33-9d5b-db5e58e8ea3f",
   "metadata": {},
   "outputs": [
    {
     "data": {
      "text/latex": [
       "$[200.47208] \\; \\mathrm{s}$"
      ],
      "text/plain": [
       "<Quantity [200.47208216] s>"
      ]
     },
     "execution_count": 14,
     "metadata": {},
     "output_type": "execute_result"
    }
   ],
   "source": [
    "intTimes = OS.calc_intTime(TL, sInds, fZ, JEZ, dMag, WA, mode, TK=TK)\n",
    "intTimes.to(u.s)"
   ]
  },
  {
   "cell_type": "markdown",
   "id": "68d20d5e-a05b-4d2b-89bd-d00d52337802",
   "metadata": {},
   "source": [
    "Finally, let's try this for a range of integration depths.  We will set up a range of $\\Delta$mag values (and then repeating the `sInd` such that we compute an intergration time for each one)."
   ]
  },
  {
   "cell_type": "code",
   "execution_count": 15,
   "id": "86a815f5-e50c-4641-8ff7-b087c6ceb312",
   "metadata": {},
   "outputs": [],
   "source": [
    "# now let's try a range of delta-mags\n",
    "dMags = np.linspace(16, 23, 100)\n",
    "intTimes = OS.calc_intTime(TL, [sInds]*len(dMags), fZ, JEZ, dMags, WA, mode, TK=TK)"
   ]
  },
  {
   "cell_type": "code",
   "execution_count": 16,
   "id": "6939aac3-aef5-46dc-8b62-a93305d2a340",
   "metadata": {},
   "outputs": [
    {
     "data": {
      "image/png": "[encoded data removed]",
      "text/plain": [
       "<Figure size 640x480 with 1 Axes>"
      ]
     },
     "metadata": {},
     "output_type": "display_data"
    }
   ],
   "source": [
    "plt.figure()\n",
    "plt.semilogy(dMags, intTimes)\n",
    "plt.xlabel(r\"Target $\\Delta$mag\")\n",
    "plt.ylabel(f\"Integration Time ({intTimes.unit})\")\n",
    "plt.title(fr\"Maximum Achievable $\\Delta$mag = {np.min(dMags[np.isnan(intTimes)]) :.2f}\");"
   ]
  },
  {
   "cell_type": "markdown",
   "id": "fb4175d5-4f6c-4837-a29e-dd257122669f",
   "metadata": {},
   "source": [
    "Note that plot does not seem to actually reach the maximum $\\Delta$mag value that we specified.  This is because that value is infeasible for this particular observation.  When this happens, `calc_intTime` returns a NaN value - for this particular configuration, that occurs at a $\\Delta$mag of ~20.6."
   ]
  }
 ],
 "metadata": {
  "kernelspec": {
   "display_name": "Python 3 (ipykernel)",
   "language": "python",
   "name": "python3"
  },
  "language_info": {
   "codemirror_mode": {
    "name": "ipython",
    "version": 3
   },
   "file_extension": ".py",
   "mimetype": "text/x-python",
   "name": "python",
   "nbconvert_exporter": "python",
   "pygments_lexer": "ipython3",
   "version": "3.12.10"
  }
 },
 "nbformat": 4,
 "nbformat_minor": 5
}
