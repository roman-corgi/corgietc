{
 "cells": [
  {
   "cell_type": "markdown",
   "metadata": {
    "id": "VqLVqfndiz9-"
   },
   "source": [
    "# `corgietc` Google Colab Setup\n",
    "\n",
    "This notebook set up `corgietc` for use with Google Colab.  It needs to be run **once**. If you are running `corgietc` from a local installation, you do **not** need to execute anything in this notebook."
   ]
  },
  {
   "cell_type": "markdown",
   "metadata": {
    "id": "X4eie3mDjwyT"
   },
   "source": [
    "## Google Colab Usage\n",
    "\n",
    "**Confirm login account**\n",
    "* Please make sure to be logged in with the Google account you want to use for the exercises before running the code cells below. You can check by clicking the circular account icon in the top right corner of the colab notebook.\n",
    "\n",
    "**Working directory**\n",
    "* Note: The software and data will be installed in a directory called \"corgietc\" in your Google drive. This directory will be created if it does not exist.\n",
    "\n",
    "**Running cells**\n",
    "* Run cells individually by clicking on the triangle on each cell\n",
    "\n",
    "**To Restart runtime**\n",
    "*   Click on Runtime menu item\n",
    "*   Select Restart session\n",
    "*   Select Run code cells individually from the top\n",
    "\n",
    "**To Recreate runtime**\n",
    "*   Click on Runtime menu item\n",
    "*   Select Disconnect and Delete runtime\n",
    "*   Select Run code cells individually from the top\n",
    "\n",
    "**To Exit:**\n",
    "*   Close the browser window"
   ]
  },
  {
   "cell_type": "markdown",
   "metadata": {
    "id": "r8MzSLMr73Ie"
   },
   "source": [
    "## Setup Google Drive directory and download data\n",
    "\n",
    "#### Run the next cell to mount the Google Drive\n",
    "\n",
    "You will receive some or all of the following prompts:\n",
    "\n",
    "* Warning: This notebook was not authored by Google - Click \"Run Anyway\" \n",
    "* Permit this notebook to access your Google Drive files? - Click \"Connect to Google Drive\"\n",
    "* A new browser window will prompt you to select an account and authorize access\n",
    "  * Select the Google account you wish to use and click Continue on each subsequent screen until the dialog vanishes\n",
    "\n",
    "Upon completion of cell execution, you should see `Mounted at /content/drive`"
   ]
  },
  {
   "cell_type": "code",
   "execution_count": null,
   "metadata": {
    "id": "5T9b5v8PA0Zb"
   },
   "outputs": [],
   "source": [
    "from google.colab import drive\n",
    "drive.mount(\"/content/drive\")"
   ]
  },
  {
   "cell_type": "markdown",
   "metadata": {
    "id": "4T3m0-Q98Kcc"
   },
   "source": [
    "#### Run the next cell to define the corgietc directory"
   ]
  },
  {
   "cell_type": "code",
   "execution_count": null,
   "metadata": {
    "id": "e6SXstULA89I"
   },
   "outputs": [],
   "source": [
    "# Define corgietc_dir\n",
    "corgietc_dir = 'corgietc'"
   ]
  },
  {
   "cell_type": "markdown",
   "metadata": {
    "id": "sjpybQVy8-J1"
   },
   "source": [
    "#### Run the next cell to create the corgietc directory and download the code onto Google Drive\n",
    "\n",
    "<div class=\"alert alert-block alert-danger\">\n",
    "If this cell results in a message like \"fatal: destination path...already exists\" - Don't worry - that just means that you've already run this before.\n",
    "</div>"
   ]
  },
  {
   "cell_type": "code",
   "execution_count": null,
   "metadata": {
    "id": "gra2cAEQBCcQ"
   },
   "outputs": [],
   "source": [
    "# Create the directory\n",
    "import os\n",
    "\n",
    "# Google top level drive dir\n",
    "drive_dir = \"/content/drive/MyDrive/\"\n",
    "\n",
    "# directory path\n",
    "corgietc_path = os.path.join(drive_dir, corgietc_dir)\n",
    "\n",
    "# Create the path directory\n",
    "try:\n",
    "    os.makedirs(corgietc_path, exist_ok = True)\n",
    "    print(\"Directory '%s' created successfully\" %corgietc_path)\n",
    "except OSError as error:\n",
    "    print(\"Directory '%s' can not be created\")\n",
    "\n",
    "# Change to the corgietc_path\n",
    "os.chdir(corgietc_path)\n",
    "\n",
    "# Download corgietc and cgi_noise repositories\n",
    "!git clone --depth 1 https://github.com/roman-corgi/corgietc\n",
    "!git clone --depth 1 https://github.com/roman-corgi/cgi_noise"
   ]
  },
  {
   "cell_type": "markdown",
   "metadata": {
    "id": "l7pdW9AGiwgQ"
   },
   "source": [
    "After successful execution of the last cell, you should see the output `Cloning into 'corgietc'` followed by additional messages inidicating download progress. \n",
    "\n",
    "If you have reached this point without errors, you are ready to start using `corgietc` with Google Colab.  Open any of the demo notebooks and execute the colab-specific cells to proceed. You can navigate to the demo notebooks by using the links provided in the code repository README, or:\n",
    "\n",
    "In Colab, click on the `File` menu (at the top left of the page) and select `Open Notebook`. Select `GitHub` in the left-hand pane of the dialog that appears, make sure that `roman-corgi` is entered in the top text box and select the `roman-corgi/corgietc` repository from the dropdown menu.  A list of all available notebooks should appear. You may see a `Leave Page` (or equivalent) prompt - it is okay to proceed. \n",
    "\n",
    "If you encountered any errors while executing this notebook, please re-check the instructions carefully, and if you need further support, create an issue here: https://github.com/roman-corgi/corgietc/issues "
   ]
  },
  {
   "cell_type": "code",
   "execution_count": null,
   "metadata": {
    "id": "FglgyoJnwHU3"
   },
   "outputs": [],
   "source": []
  }
 ],
 "metadata": {
  "colab": {
   "provenance": [],
   "toc_visible": true
  },
  "kernelspec": {
   "display_name": "Python 3 (ipykernel)",
   "language": "python",
   "name": "python3"
  },
  "language_info": {
   "codemirror_mode": {
    "name": "ipython",
    "version": 3
   },
   "file_extension": ".py",
   "mimetype": "text/x-python",
   "name": "python",
   "nbconvert_exporter": "python",
   "pygments_lexer": "ipython3",
   "version": "3.12.10"
  }
 },
 "nbformat": 4,
 "nbformat_minor": 4
}
