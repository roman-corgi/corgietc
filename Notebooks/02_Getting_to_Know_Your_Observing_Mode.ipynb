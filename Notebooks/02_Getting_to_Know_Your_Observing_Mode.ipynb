{
 "cells": [
  {
   "cell_type": "markdown",
   "id": "edc35ba6-399d-4172-b1a4-f684fdf9b2bc",
   "metadata": {},
   "source": [
    "# Getting to Know Your Observing Mode (Scenario)\n",
    "\n",
    "The observing mode encodes all of the information related to propagation of star, planet, and other light from the telescope primary all the way through to the science focal plane.  The observing mode is a combination of a `scienceInstrument` (https://exosims.readthedocs.io/en/latest/opticalsystem.html#science-instruments), a `starlightSuppressionSystem` (for Roman, this is always a coronagraph; https://exosims.readthedocs.io/en/latest/opticalsystem.html#starlight-suppression-system) and information on how these are to be used together. \n",
    "\n",
    "This notebook demonstrates some methods by which you can interrogate the observing mode to figure out exactly what's inside, and what your exposure time calculations are being based on."
   ]
  },
  {
   "cell_type": "markdown",
   "id": "2dd7dc84-eaf9-4a94-91d7-4a3a4f809f46",
   "metadata": {},
   "source": [
    "\n",
    "If running via Google Colab, you must first execute the contents of notebook `00_Google_Colab_Setup.ipynb` (only if you have never done so previously). Then execute all cells tagged with &#128992;.  If running via a local installation, you should skip all of the colab-specific (&#128992;) cells."
   ]
  },
  {
   "cell_type": "markdown",
   "id": "7eff34bd-f16d-4aae-91e1-3aedf911eb7a",
   "metadata": {
    "id": "kOGZXwQ3bBt-"
   },
   "source": [
    "## 🟠 Setup for Google Colab Use"
   ]
  },
  {
   "cell_type": "markdown",
   "id": "e1226d7c-dd09-4e2d-9d35-76fcf40276d0",
   "metadata": {
    "id": "lKTP9aUCbCJE"
   },
   "source": [
    "### 🟠 Run the next cell to mount the Google Drive\n",
    "\n",
    "You will receive some or all of the following prompts:\n",
    "\n",
    "* Warning: This notebook was not authored by Google - Click \"Run Anyway\" \n",
    "* Permit this notebook to access your Google Drive files? - Click \"Connect to Google Drive\"\n",
    "* A new browser window will prompt you to select an account and authorize access\n",
    "  * Select the Google account you wish to use and click Continue on each subsequent screen until the dialog vanishes\n",
    "\n",
    "Upon completion of cell execution, you should see `Mounted at /content/drive`"
   ]
  },
  {
   "cell_type": "code",
   "execution_count": null,
   "id": "e8d7fa17-417a-43c9-9715-b7a4d5615621",
   "metadata": {
    "id": "_J6JDFZUbI-k"
   },
   "outputs": [],
   "source": [
    "from google.colab import drive\n",
    "drive.mount('/content/drive')"
   ]
  },
  {
   "cell_type": "markdown",
   "id": "e97c8819-9f7e-4934-a3ac-0436587e8587",
   "metadata": {
    "id": "VguVKE-obVLy"
   },
   "source": [
    "### 🟠 Run the next cell to change to the corgietc directory and install the required software\n",
    "\n",
    "This process should take less than a minute, but, depending on bandwidth availability, may take as long as a few minutes. You will see a variety of messages about package downloads.  Upon completion of cell execution, you should see `Sucessfully installed` followed by a list of installed packages and their versions.\n",
    "\n",
    "You may see the prompt \"Restart session\".  You do not need to do this - click 'Cancel'."
   ]
  },
  {
   "cell_type": "code",
   "execution_count": null,
   "id": "f6c73a6e-ea55-49da-b396-76234be3725a",
   "metadata": {
    "id": "DBntQLYvbaoO"
   },
   "outputs": [],
   "source": [
    "# This cell should *only* be executed if running the notebook in Google Colab\n",
    "import os\n",
    "\n",
    "# Google top level drive dir\n",
    "drive_dir = \"/content/drive/MyDrive/\"\n",
    "\n",
    "# directory path\n",
    "corgietc_dir = 'corgietc'\n",
    "corgietc_path = os.path.join(drive_dir, corgietc_dir)\n",
    "cgi_noise_repo_path = os.path.join(corgietc_path, \"cgi_noise\")\n",
    "corgietc_repo_path = os.path.join(corgietc_path, \"corgietc\")\n",
    "corgietc_notebooks_path = os.path.join(corgietc_repo_path, \"Notebooks\")\n",
    "\n",
    "# Change to the cgi_noise repo path and update the repo\n",
    "os.chdir(cgi_noise_repo_path)\n",
    "!git pull\n",
    "\n",
    "# Install the backend and all requirements - this can also take a little while\n",
    "!pip install .\n",
    "\n",
    "# Change to the corgietc repo path and update the repo\n",
    "os.chdir(corgietc_repo_path)\n",
    "!git pull\n",
    "\n",
    "# Install the backend and all requirements - this can also take a little while\n",
    "!pip install .\n",
    "\n",
    "# Refresh package list to pick up new installations\n",
    "import site\n",
    "site.main()\n",
    "\n",
    "# Change to the Notebooks directory\n",
    "os.chdir(corgietc_notebooks_path)"
   ]
  },
  {
   "cell_type": "markdown",
   "id": "7c00cc0d-7dd7-4294-a18f-d92e5a92b742",
   "metadata": {
    "id": "r8On4Kufbj4d"
   },
   "source": [
    "### 🟠 Import jupyter widget for Colab"
   ]
  },
  {
   "cell_type": "code",
   "execution_count": null,
   "id": "370a4339-78ca-4cc7-9bb8-9a9fdfeaae2e",
   "metadata": {
    "id": "Iu85wz45brWA"
   },
   "outputs": [],
   "source": [
    "# need to import third party jupyter widget\n",
    "from google.colab import output\n",
    "output.enable_custom_widget_manager()"
   ]
  },
  {
   "cell_type": "markdown",
   "id": "4bf72e35-fe35-4f09-8f73-397e662522ce",
   "metadata": {},
   "source": [
    "## All Cells from this point should be run for both Colab and local installations"
   ]
  },
  {
   "cell_type": "code",
   "execution_count": 1,
   "id": "9d8950db-7561-457a-bf04-033825533443",
   "metadata": {},
   "outputs": [],
   "source": [
    "# import all required packages\n",
    "from corgietc.corgietc import corgietc\n",
    "import os\n",
    "import json\n",
    "import EXOSIMS.Prototypes.TargetList\n",
    "import EXOSIMS.Prototypes.TimeKeeping\n",
    "import copy\n",
    "import astropy.units as u\n",
    "import numpy as np\n",
    "import matplotlib.pyplot as plt"
   ]
  },
  {
   "cell_type": "markdown",
   "id": "80c42a03-2b9e-4b5f-b0ec-543ceebd7eea",
   "metadata": {},
   "source": [
    "We will load our standard input specification and use it to build an optical system, from which we will extract the first observing mode for inspection:"
   ]
  },
  {
   "cell_type": "code",
   "execution_count": 2,
   "id": "26d7b2db-17b1-42a9-b3db-d7fb122fad75",
   "metadata": {},
   "outputs": [],
   "source": [
    "# Load the default input specification\n",
    "scriptfile = os.path.join(os.environ[\"CORGIETC_DATA_DIR\"], \"scripts\", \"CGI_Noise.json\")\n",
    "with open(scriptfile, \"r\") as f:\n",
    "    specs = json.loads(f.read())\n",
    "# create an optical system\n",
    "OS = corgietc(**copy.deepcopy(specs))\n",
    "# pull out the first mode\n",
    "mode = OS.observingModes[0]"
   ]
  },
  {
   "cell_type": "markdown",
   "id": "4def371c-b3cf-4d71-971f-9ae2e8d4364e",
   "metadata": {},
   "source": [
    "The observing mode is a dictionary. First, let's look at all of the keys in it:"
   ]
  },
  {
   "cell_type": "code",
   "execution_count": 3,
   "id": "343ec8f9-9021-4f1e-b1a8-70112f8c1eb3",
   "metadata": {},
   "outputs": [
    {
     "name": "stdout",
     "output_type": "stream",
     "text": [
      "instName\n",
      "systName\n",
      "Scenario\n",
      "lam\n",
      "SNR\n",
      "strayLight\n",
      "timeMultiplier\n",
      "detectionMode\n",
      "inst\n",
      "syst\n",
      "deltaLam\n",
      "BW\n",
      "IWA\n",
      "OWA\n",
      "bandpass_model\n",
      "bandpass_step\n",
      "bandpass\n",
      "F0\n",
      "attenuation\n",
      "deltaLam_eff\n",
      "losses\n",
      "f_SR\n",
      "stray_ph_s_pix\n",
      "inBandFlux0_sum\n",
      "hex\n",
      "index\n"
     ]
    }
   ],
   "source": [
    "for key in mode.keys():\n",
    "    print(key)"
   ]
  },
  {
   "cell_type": "markdown",
   "id": "fedcc82f-c04e-4bd1-8787-7272d9a5a53f",
   "metadata": {},
   "source": [
    "## Observing Mode Contents\n",
    "\n",
    "`instName` and `systName` are the names of `scienceInstrument` and `starlightSuppressionSystem` that make up the mode, while `Scenario` is the name of the mode.  The mode includes two other identifiers: `index` is the numerical index of the mode (in the order it was provided in the original input specification), while `hex` is a unique string that encodes all of the parameters that define the mode.  This last value is used internally to ensure that we can uniquely associate modes with other calculated data.\n",
    "\n",
    "In addition to the instrument and coronagraph, the mode includes multiple other parameters, the most important of which is `SNR`. This is the target SNR for all observations computed with this mode. We can check its value for the current mode:"
   ]
  },
  {
   "cell_type": "code",
   "execution_count": 4,
   "id": "475e7178-7c0d-4690-b47c-f2574964d092",
   "metadata": {},
   "outputs": [
    {
     "data": {
      "text/plain": [
       "5.0"
      ]
     },
     "execution_count": 4,
     "metadata": {},
     "output_type": "execute_result"
    }
   ],
   "source": [
    "mode[\"SNR\"]"
   ]
  },
  {
   "cell_type": "markdown",
   "id": "2ec2942b-96eb-47d2-a0b0-fc764e226173",
   "metadata": {},
   "source": [
    "The mode includes a model of its bandpass.  By default, this is a box with central wavelength `lam` and width given by `deltaLam`, such that `deltaLam/lam = BW`, the bandwidth:"
   ]
  },
  {
   "cell_type": "code",
   "execution_count": 5,
   "id": "ab3e5eb6-f863-49d0-a299-de6d6a8a9584",
   "metadata": {},
   "outputs": [
    {
     "name": "stdout",
     "output_type": "stream",
     "text": [
      "lambda: 575.0 nm, Delta lambda:57.5 nm, BW: 0.1\n"
     ]
    },
    {
     "data": {
      "text/plain": [
       "True"
      ]
     },
     "execution_count": 5,
     "metadata": {},
     "output_type": "execute_result"
    }
   ],
   "source": [
    "print(f'lambda: {mode[\"lam\"]}, Delta lambda:{mode[\"deltaLam\"]}, BW: {mode[\"BW\"]}')\n",
    "mode[\"lam\"]*mode[\"BW\"] == mode[\"deltaLam\"]"
   ]
  },
  {
   "cell_type": "markdown",
   "id": "fff2adb1-c310-4966-8bac-7ffa7d33a474",
   "metadata": {},
   "source": [
    "The bandpass is a `synphot` `SpectralElement` object (https://synphot.readthedocs.io/en/latest/synphot/bandpass.html) and we can use it's built-in plotting method to visualize it:"
   ]
  },
  {
   "cell_type": "code",
   "execution_count": 6,
   "id": "ac31b0e8-d116-4a97-ad50-2aad049adb25",
   "metadata": {},
   "outputs": [
    {
     "data": {
      "image/png": "[encoded data removed]",
      "text/plain": [
       "<Figure size 640x480 with 1 Axes>"
      ]
     },
     "metadata": {},
     "output_type": "display_data"
    }
   ],
   "source": [
    "mode[\"bandpass\"].plot()"
   ]
  },
  {
   "cell_type": "markdown",
   "id": "9251254f-bb1a-4061-bd93-73e6d62fcd48",
   "metadata": {},
   "source": [
    "The type of bandpass to model is governed by the `bandpass_model` key, but note that changing this key after the mode has been defined will not update the bandpass - this must be set in the original input specification.\n",
    "\n",
    "**Important**: Some of the mode keywords are used by other ETCs in ``EXOSIMS`` and are irrelevant to `corgietc`. These include: `detectionMode, attenuation, losses`."
   ]
  },
  {
   "cell_type": "markdown",
   "id": "f7c02ffa-164c-41a8-9ae4-3bf9b4869d60",
   "metadata": {},
   "source": [
    "## Science Instrument Contents\n",
    "\n",
    "The `scienceInstrument` is also a dictionary.  Let's see what's inside:"
   ]
  },
  {
   "cell_type": "code",
   "execution_count": 7,
   "id": "cf2d5a07-f702-4656-b945-62561d56cf85",
   "metadata": {},
   "outputs": [
    {
     "name": "stdout",
     "output_type": "stream",
     "text": [
      "name\n",
      "CritLam\n",
      "pixelSize\n",
      "QE\n",
      "DET_QE_Data\n",
      "DET_CBE_Data\n",
      "pp_Factor_CBE\n",
      "optics\n",
      "FoV\n",
      "pixelNumber\n",
      "pixelScale\n",
      "idark\n",
      "sread\n",
      "texp\n",
      "Rs\n",
      "lenslSamp\n",
      "focal\n",
      "fnumber\n",
      "compbeamD\n",
      "fnlFocLen\n",
      "PSF_x_lamD\n",
      "PSF_y_lamD\n",
      "Rlamsq\n",
      "Rlam\n",
      "Rconst\n"
     ]
    }
   ],
   "source": [
    "inst = mode[\"inst\"]\n",
    "for key in inst.keys():\n",
    "    print(key)"
   ]
  },
  {
   "cell_type": "markdown",
   "id": "5a4f109b-0f87-45f3-b1de-dc6fdb8bbb12",
   "metadata": {},
   "source": [
    "As with the `observingMode`, not all of these are relevant to `corgietc`, but are automatically added by `EXOSIMS`. Similarly, some values are only relvant to spectrometers, and are set to default values (which are ignored) for imaging instruments.  The name of the instrument always includes the substring 'imag' or 'spec' to indicate the type of instrument.  This one is an imager:"
   ]
  },
  {
   "cell_type": "code",
   "execution_count": 8,
   "id": "44cc4c4a-53a0-4f8b-b612-a3bab95bdc77",
   "metadata": {},
   "outputs": [
    {
     "data": {
      "text/plain": [
       "'NF_B1_Imager'"
      ]
     },
     "execution_count": 8,
     "metadata": {},
     "output_type": "execute_result"
    }
   ],
   "source": [
    "inst[\"name\"]"
   ]
  },
  {
   "cell_type": "markdown",
   "id": "5a387305-b6b4-4240-b276-faca95293410",
   "metadata": {},
   "source": [
    "Most of the values encoded by the instrument are scalars (or data tables of parameters), but the quantum efficiency (QE) must be parameterized by wavelength. We can see this by looking at the `QE` object:"
   ]
  },
  {
   "cell_type": "code",
   "execution_count": 9,
   "id": "9888ca8f-32a5-4ed2-8e43-109da31b7755",
   "metadata": {},
   "outputs": [
    {
     "data": {
      "text/plain": [
       "<function EXOSIMS.Prototypes.OpticalSystem.OpticalSystem.populate_scienceInstruments.<locals>.<lambda>(l)>"
      ]
     },
     "execution_count": 9,
     "metadata": {},
     "output_type": "execute_result"
    }
   ],
   "source": [
    "inst[\"QE\"]"
   ]
  },
  {
   "cell_type": "markdown",
   "id": "3d00e51c-7c1a-4ab0-9c9b-adfb743749f9",
   "metadata": {},
   "source": [
    "It might not be obvious from the above, but this is telling us that the value of this key is a callable method, which takes a single input (the wavelength).  Furthermore, this input must be an `astropy` `Quantity` with a length unit, such that there are no conversion errors:"
   ]
  },
  {
   "cell_type": "code",
   "execution_count": 10,
   "id": "552d6cd3-9fdb-46ad-9a83-962b1ed6e61b",
   "metadata": {},
   "outputs": [
    {
     "data": {
      "text/latex": [
       "$[0.84760214] \\; \\mathrm{\\frac{1}{ph}}$"
      ],
      "text/plain": [
       "<Quantity [0.84760214] 1 / ph>"
      ]
     },
     "execution_count": 10,
     "metadata": {},
     "output_type": "execute_result"
    }
   ],
   "source": [
    "inst[\"QE\"](575*u.nm)"
   ]
  },
  {
   "cell_type": "markdown",
   "id": "218f167e-e4f9-4442-a1db-3331687a11e8",
   "metadata": {},
   "source": [
    "Note that the units are photons$^{-1}$ - the electrons/data numbers in the numerator are implicit. We can plot out the entire QE curve over our mode's bandpass by evaluating the QE at multiple wavelengths:"
   ]
  },
  {
   "cell_type": "code",
   "execution_count": 11,
   "id": "4a4ad928-a63f-4831-b4df-4996c661d9a7",
   "metadata": {},
   "outputs": [
    {
     "data": {
      "text/plain": [
       "Text(0, 0.5, 'QE (1 / ph)')"
      ]
     },
     "execution_count": 11,
     "metadata": {},
     "output_type": "execute_result"
    },
    {
     "data": {
      "image/png": "[encoded data removed]",
      "text/plain": [
       "<Figure size 640x480 with 1 Axes>"
      ]
     },
     "metadata": {},
     "output_type": "display_data"
    }
   ],
   "source": [
    "QEs = inst[\"QE\"](mode[\"bandpass\"].waveset)\n",
    "plt.figure()\n",
    "plt.plot(mode[\"bandpass\"].waveset, QEs)\n",
    "plt.xlabel(f'Wavelength ({mode[\"bandpass\"].waveset.unit})')\n",
    "plt.ylabel(f\"QE ({QEs.unit})\")"
   ]
  },
  {
   "cell_type": "markdown",
   "id": "d5906bfe-67a4-443f-9bb3-807edd9a6eab",
   "metadata": {},
   "source": [
    "Beyond this, important values include the pixel scale, pixel pitch, and f number:"
   ]
  },
  {
   "cell_type": "code",
   "execution_count": 12,
   "id": "7e6a5cc4-52e4-4bb8-a05d-f5ad042085d2",
   "metadata": {},
   "outputs": [
    {
     "name": "stdout",
     "output_type": "stream",
     "text": [
      "Pixel Scale:0.02182234513828781 arcsec, Pixel Size: 1.3e-05 m, F number: 56.73809735954825\n"
     ]
    }
   ],
   "source": [
    "print(f'Pixel Scale:{inst[\"pixelScale\"]}, Pixel Size: {inst[\"pixelSize\"]}, F number: {inst[\"fnumber\"]}')"
   ]
  },
  {
   "cell_type": "markdown",
   "id": "1a3bec06-a89f-41d8-a57a-ab9d59082cb6",
   "metadata": {},
   "source": [
    "## Starlight Suppression System Contents\n",
    "\n",
    "Once again, we are dealing with a dictionary:"
   ]
  },
  {
   "cell_type": "code",
   "execution_count": 13,
   "id": "2d3c234b-fd16-4202-9053-9061dca02c8b",
   "metadata": {},
   "outputs": [
    {
     "name": "stdout",
     "output_type": "stream",
     "text": [
      "name\n",
      "csv_angsep_colname\n",
      "input_angle_units\n",
      "IWA\n",
      "OWA\n",
      "lam\n",
      "BW\n",
      "Rs\n",
      "Nlensl\n",
      "lenslSamp\n",
      "koAngles_Sun\n",
      "koAngles_Earth\n",
      "koAngles_Moon\n",
      "koAngles_Small\n",
      "csv_names\n",
      "occ_trans\n",
      "core_thruput\n",
      "core_mean_intensity\n",
      "core_area\n",
      "core_contrast\n",
      "PSFpeak\n",
      "core_platescale\n",
      "core_stability\n",
      "core_stability_setting\n",
      "AvgRawContrast\n",
      "ExtContStab\n",
      "IntContStab\n",
      "SystematicC\n",
      "InitStatContrast\n",
      "CGintSamp\n",
      "Throughput_Data\n",
      "deltaLam\n",
      "core_platescale_units\n",
      "contrast_floor\n",
      "optics\n",
      "occulter\n",
      "ohTime\n",
      "input_angle_unit_value\n"
     ]
    }
   ],
   "source": [
    "syst = mode[\"syst\"]\n",
    "for key in syst.keys():\n",
    "    print(key)"
   ]
  },
  {
   "cell_type": "markdown",
   "id": "ecb518a3-e2ff-4926-b817-c0afb58f8673",
   "metadata": {},
   "source": [
    "Note that the coronagraph has its own central wavelength and bandpass definition.  These could match those of the mode, but do not have to.  The `lam` value in the `starlightSuppressionSystem` is the design wavelength, whereas the one in the mode is where you're actually using the coronagraph to take observations.\n",
    "\n",
    "A coronagraph is define via five curves, described here: https://exosims.readthedocs.io/en/latest/opticalsystem.html#standardized-coronagraph-parameters.  These include the occulter transmission, core throughput, core area, core mean intensity, and core contrast.  In addition to these, ``cgi_noise`` (the engine behind ``corgietc``) also uses the PSF peak intensity.  All of these curves are parameterized by angular separation, as coronagraph performance varies between the inner and outer working angles (IWA/OWA), but must also be parametrized by observing wavelength to account for the case where we are observing in a wavelength that is different from the coronagrph's design wavelength (the impact of the wavelength change is a linear scaling of the angular separation - see the docs linked above for more details).  \n",
    "\n",
    "Thus, when using any of these to compute values, we need to provide both an angular separation and a wavelength.  For example:"
   ]
  },
  {
   "cell_type": "code",
   "execution_count": 14,
   "id": "9a631639-ea8f-4dcb-b1ae-06cdae1e9095",
   "metadata": {},
   "outputs": [
    {
     "data": {
      "text/plain": [
       "5.56e-09"
      ]
     },
     "execution_count": 14,
     "metadata": {},
     "output_type": "execute_result"
    }
   ],
   "source": [
    "syst[\"core_contrast\"](mode[\"lam\"], syst[\"IWA\"])"
   ]
  },
  {
   "cell_type": "markdown",
   "id": "1b93c33b-fdb4-47b7-abb7-2f2119b9b814",
   "metadata": {},
   "source": [
    "Once again, we can plot the entirety of the curve by supplying many angular separation values:"
   ]
  },
  {
   "cell_type": "code",
   "execution_count": 15,
   "id": "7b53d374-40cf-41f0-8ccc-084957991acd",
   "metadata": {},
   "outputs": [
    {
     "data": {
      "image/png": "[encoded data removed]",
      "text/plain": [
       "<Figure size 640x480 with 2 Axes>"
      ]
     },
     "metadata": {},
     "output_type": "display_data"
    }
   ],
   "source": [
    "WAs = np.linspace(syst[\"IWA\"].value, syst[\"OWA\"].value)*syst[\"OWA\"].unit\n",
    "f, a1 = plt.subplots()\n",
    "plt.plot(WAs, syst[\"core_contrast\"](mode[\"lam\"], WAs), 'b', label=\"Core Contrast\")\n",
    "a1.set_xlabel(f\"Angular separation ({WAs.unit})\")\n",
    "a1.set_ylabel(\"Core Contrast\")\n",
    "a2 = a1.twinx()\n",
    "a2.plot(WAs, syst[\"occ_trans\"](mode[\"lam\"], WAs),'r', label=\"Occulter Transmission\")\n",
    "a2.set_ylabel(\"Occulter Transmission\")\n",
    "f.legend();"
   ]
  }
 ],
 "metadata": {
  "kernelspec": {
   "display_name": "Python 3 (ipykernel)",
   "language": "python",
   "name": "python3"
  },
  "language_info": {
   "codemirror_mode": {
    "name": "ipython",
    "version": 3
   },
   "file_extension": ".py",
   "mimetype": "text/x-python",
   "name": "python",
   "nbconvert_exporter": "python",
   "pygments_lexer": "ipython3",
   "version": "3.12.10"
  }
 },
 "nbformat": 4,
 "nbformat_minor": 5
}
