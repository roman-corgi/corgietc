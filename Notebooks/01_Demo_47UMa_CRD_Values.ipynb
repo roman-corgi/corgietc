{
 "cells": [
  {
   "cell_type": "markdown",
   "id": "9bbdbe86-3d9b-4df8-8069-75a0dc28cd16",
   "metadata": {},
   "source": [
    "# Demo 1: 47 UMa c CDR Value calculation\n",
    "\n",
    "This sheet demonstrates basic exposure time calculation using CDR instrument values.\n",
    "\n",
    "If running via Google Colab, you must first execute the contents of notebook `00_Google_Colab_Setup.ipynb` (only if you have never done so previously). Then execute all cells tagged with &#128992;.  If running via a local installation, you should skip all of the colab-specific (&#128992;) cells."
   ]
  },
  {
   "cell_type": "markdown",
   "id": "55100749-7ed1-45c0-b806-c0852a65fb90",
   "metadata": {
    "id": "kOGZXwQ3bBt-"
   },
   "source": [
    "## &#128992; Setup for Google Colab Use"
   ]
  },
  {
   "cell_type": "markdown",
   "id": "91acefdf-b9fd-439a-8e35-37d00b6a80e6",
   "metadata": {
    "id": "lKTP9aUCbCJE"
   },
   "source": [
    "### &#128992; Run the next cell to mount the Google Drive\n",
    "\n",
    "You will receive some or all of the following prompts:\n",
    "\n",
    "* Warning: This notebook was not authored by Google - Click \"Run Anyway\" \n",
    "* Permit this notebook to access your Google Drive files? - Click \"Connect to Google Drive\"\n",
    "* A new browser window will prompt you to select an account and authorize access\n",
    "  * Select the Google account you wish to use and click Continue on each subsequent screen until the dialog vanishes\n",
    "\n",
    "Upon completion of cell execution, you should see `Mounted at /content/drive`"
   ]
  },
  {
   "cell_type": "code",
   "execution_count": null,
   "id": "d5a335a0-c5bd-4b3e-b27e-38c7f1d9dd5a",
   "metadata": {
    "id": "_J6JDFZUbI-k"
   },
   "outputs": [],
   "source": [
    "# You will be prompted to Permit this notebook to access your Google Drive files - Click on \"Connect to Google Drive\"\n",
    "# You will then be prompted to Choose an account - click on your preferred Google account\n",
    "# You will then confirm that Google Drive for desktop wants to access your Google Account - scroll to click \"Continue\"\n",
    "# You may get another prompt to allow additional access for this to work - scroll to click \"Continue\"\n",
    "\n",
    "from google.colab import drive\n",
    "drive.mount('/content/drive')"
   ]
  },
  {
   "cell_type": "markdown",
   "id": "7f437665-5999-4b53-8feb-3d9bd4c38291",
   "metadata": {
    "id": "VguVKE-obVLy"
   },
   "source": [
    "### &#128992; Run the next cell to change to the corgietc directory and install the required software\n",
    "\n",
    "This process should take less than a minute, but, depending on bandwidth availability, may take as long as a few minutes. You will see a variety of messages about package downloads.  Upon completion of cell execution, you should see `Sucessfully installed` followed by a list of installed packages and their versions."
   ]
  },
  {
   "cell_type": "code",
   "execution_count": null,
   "id": "b333dad4-8c24-4daf-8073-797e393d2413",
   "metadata": {
    "id": "DBntQLYvbaoO"
   },
   "outputs": [],
   "source": [
    "# This cell should *only* be executed if running the notebook in Google Colab\n",
    "import os\n",
    "\n",
    "# Google top level drive dir\n",
    "drive_dir = \"/content/drive/MyDrive/\"\n",
    "\n",
    "# directory path\n",
    "corgietc_dir = 'corgietc'\n",
    "corgietc_path = os.path.join(drive_dir, corgietc_dir)\n",
    "corgietc_repo_path = os.path.join(corgietc_path, \"corgietc\")\n",
    "corgietc_notebooks_path = os.path.join(corgietc_repo_path, \"Notebooks\")\n",
    "\n",
    "# Change to the repo_path and update the repo\n",
    "os.chdir(corgietc_repo_path)\n",
    "!git pull\n",
    "\n",
    "# Install the backend and all requirements - this can also take a little while\n",
    "!pip install .\n",
    "\n",
    "# Refresh package list to pick up new installations\n",
    "import site\n",
    "site.main()\n",
    "\n",
    "# Change to the Notebooks directory\n",
    "os.chdir(corgietc_notebooks_path)"
   ]
  },
  {
   "cell_type": "markdown",
   "id": "dfd153ec-515f-4e34-ba00-eb655c0629e2",
   "metadata": {
    "id": "r8On4Kufbj4d"
   },
   "source": [
    "### &#128992; Import jupyter widget for Colab"
   ]
  },
  {
   "cell_type": "code",
   "execution_count": null,
   "id": "d50dd23b-18e0-4633-bd2d-1b40b1848f06",
   "metadata": {
    "id": "Iu85wz45brWA"
   },
   "outputs": [],
   "source": [
    "# need to import third party jupyter widget\n",
    "from google.colab import output\n",
    "output.enable_custom_widget_manager()"
   ]
  },
  {
   "cell_type": "markdown",
   "id": "d4ba0ea9-e66f-468b-a19d-db1b69d078d5",
   "metadata": {},
   "source": [
    "## All Cells from this point should be run for both Colab and local installations"
   ]
  },
  {
   "cell_type": "code",
   "execution_count": null,
   "id": "1ab5c793-5b0c-4705-a2f5-0dabf71e09e0",
   "metadata": {
    "id": "1ab5c793-5b0c-4705-a2f5-0dabf71e09e0"
   },
   "outputs": [],
   "source": [
    "# All users should execute all cells starting with this one\n",
    "# Ensure that you are working in the Notebooks directory of corgietc\n",
    "import os\n",
    "import pkgutil\n",
    "codedir = os.path.split(pkgutil.get_loader(\"corgietc\").get_filename())[0]\n",
    "notebookdir = os.path.abspath(os.path.join(codedir, '..', 'Notebooks'))\n",
    "assert os.path.exists(notebookdir), \"Notebooks directory not found.\"\n",
    "os.chdir(notebookdir)"
   ]
  },
  {
   "cell_type": "code",
   "execution_count": 1,
   "id": "59f5c9d5-5369-4785-9a42-f3aa28585900",
   "metadata": {},
   "outputs": [],
   "source": [
    "# import all required packages\n",
    "import corgietc\n",
    "import os\n",
    "import json\n",
    "import EXOSIMS.Prototypes.TargetList\n",
    "import EXOSIMS.Prototypes.TimeKeeping\n",
    "import copy\n",
    "import astropy.units as u\n",
    "import numpy as np\n",
    "import matplotlib.pyplot as plt"
   ]
  },
  {
   "cell_type": "code",
   "execution_count": 2,
   "id": "e0130c7f-c6f4-4aa6-8797-c4a234704c14",
   "metadata": {},
   "outputs": [],
   "source": [
    "# This loads the default input specification\n",
    "scriptfile = os.path.join(os.environ[\"CGI_PERF_DIR\"], \"scripts\", \"cdrvals.json\")\n",
    "with open(scriptfile, \"r\") as f:\n",
    "    specs = json.loads(f.read())"
   ]
  },
  {
   "cell_type": "code",
   "execution_count": 3,
   "id": "ade055dd-0525-45bb-b01b-103ecd918316",
   "metadata": {},
   "outputs": [],
   "source": [
    "# This updates the input specification to create a target list with one target:\n",
    "# HIP 53721 = 47 UMa\n",
    "specs['fillPhotometry'] = True\n",
    "specs[\"modules\"][\"StarCatalog\"] = \"HIPfromSimbad\"\n",
    "specs[\"catalogpath\"] = [53721]"
   ]
  },
  {
   "cell_type": "code",
   "execution_count": 4,
   "id": "44bdebbd-eba3-4692-a80e-1a07a8e08b9d",
   "metadata": {},
   "outputs": [
    {
     "name": "stderr",
     "output_type": "stream",
     "text": [
      "/Users/ds264/Documents/gitrepos/EXOSIMS/EXOSIMS/Prototypes/TargetList.py:376: UserWarning: binary_filter is None but filterBinaries is True. Using binary_filter value of None.\n",
      "  warnings.warn(\n"
     ]
    },
    {
     "name": "stdout",
     "output_type": "stream",
     "text": [
      "Imported HIPfromSimbad (implementation) from EXOSIMS.StarCatalog.HIPfromSimbad\n",
      "Imported Nemati_2019 (implementation) from EXOSIMS.OpticalSystem.Nemati_2019\n"
     ]
    },
    {
     "name": "stderr",
     "output_type": "stream",
     "text": [
      "/Users/ds264/Documents/gitrepos/EXOSIMS/EXOSIMS/Prototypes/OpticalSystem.py:619: UserWarning: Input focal length (0.26 m) does not match value from pixelScale (134.07 m) for instrument Conservative_Amici_Spec. This feels like a mistkae.\n",
      "  warnings.warn(\n",
      "/Users/ds264/Documents/gitrepos/EXOSIMS/EXOSIMS/Prototypes/OpticalSystem.py:619: UserWarning: Input focal length (0.26 m) does not match value from pixelScale (134.07 m) for instrument Optimistic_Amici_Spec. This feels like a mistkae.\n",
      "  warnings.warn(\n",
      "/Users/ds264/Documents/gitrepos/EXOSIMS/EXOSIMS/Prototypes/OpticalSystem.py:1410: UserWarning: core_mean_intensity has larger IWA than current system value for EB_HLC-565. Updating to match table, but you should check your inputs.\n",
      "  warnings.warn(\n",
      "/Users/ds264/Documents/gitrepos/EXOSIMS/EXOSIMS/Prototypes/OpticalSystem.py:1410: UserWarning: core_mean_intensity has larger IWA than current system value for DRM_HLC-565. Updating to match table, but you should check your inputs.\n",
      "  warnings.warn(\n",
      "/Users/ds264/Documents/gitrepos/EXOSIMS/EXOSIMS/Prototypes/OpticalSystem.py:1421: UserWarning: core_mean_intensity has smaller OWA than current system value for DRM_HLC-565. Updating to match table, but you should check your inputs.\n",
      "  warnings.warn(\n",
      "/Users/ds264/Documents/gitrepos/EXOSIMS/EXOSIMS/Prototypes/OpticalSystem.py:1421: UserWarning: core_mean_intensity has smaller OWA than current system value for DRM_SPEC_B3. Updating to match table, but you should check your inputs.\n",
      "  warnings.warn(\n",
      "/Users/ds264/Documents/gitrepos/EXOSIMS/EXOSIMS/Prototypes/OpticalSystem.py:1421: UserWarning: core_mean_intensity has smaller OWA than current system value for DRM_IMG_B4. Updating to match table, but you should check your inputs.\n",
      "  warnings.warn(\n"
     ]
    },
    {
     "name": "stdout",
     "output_type": "stream",
     "text": [
      "Imported Stark (implementation) from EXOSIMS.ZodiacalLight.Stark\n",
      "Imported PostProcessing (prototype) from EXOSIMS.Prototypes.PostProcessing\n",
      "Imported GalaxiesFaintStars (implementation) from EXOSIMS.BackgroundSources.GalaxiesFaintStars\n",
      "Imported Completeness (prototype) from EXOSIMS.Prototypes.Completeness\n",
      "Imported PlanetPopulation (prototype) from EXOSIMS.Prototypes.PlanetPopulation\n",
      "Imported ForecasterMod (implementation) from EXOSIMS.PlanetPhysicalModel.ForecasterMod\n",
      "1 targets imported from star catalog.\n",
      "1 targets remain after removing those where spectral class cannot be established.\n",
      "1 targets remain after removing white dwarfs and subdwarfs\n",
      "1 targets remain after nan filtering.\n",
      "1 targets remain after removing zero luminosity targets.\n",
      "Star fluxes stored in /Users/ds264/.EXOSIMS/cache/TargetList_HIPfromSimbad_nStars_1_mode_d1d6f86e6efbf34de71cd3a5d3786e11.star_fluxes\n",
      "Calculating intCutoff_dMag\n"
     ]
    },
    {
     "name": "stderr",
     "output_type": "stream",
     "text": [
      "/Users/ds264/Documents/gitrepos/EXOSIMS/EXOSIMS/OpticalSystem/Nemati_2019.py:958: UserWarning: Failed to load detector values from $CGI_PERF_DIR/CDR/Photometry/DET_CBE_210127.csv. Headers likely changed names.\n",
      "  warnings.warn(\n"
     ]
    },
    {
     "name": "stdout",
     "output_type": "stream",
     "text": [
      "intCutoff_dMag values stored in /Users/ds264/.EXOSIMS/cache/TargetList_HIPfromSimbad_Nemati_2019_Stark_vals_543023b35c09501fafce78ae822de6f5_mode_d1d6f86e6efbf34de71cd3a5d3786e11.intCutoff_dMag\n",
      "Calculating the integration cutoff time completeness\n",
      "intCutoff_comp values stored in /Users/ds264/.EXOSIMS/cache/TargetList_HIPfromSimbad_Completeness_vals_3576bbd638806ffa5a676096af65e473.intCutoff_comp\n"
     ]
    }
   ],
   "source": [
    "# Build the targetlist object\n",
    "TL = EXOSIMS.Prototypes.TargetList.TargetList(**copy.deepcopy(specs))\n",
    "OS = TL.OpticalSystem"
   ]
  },
  {
   "cell_type": "code",
   "execution_count": 5,
   "id": "55216701-f178-4da2-a218-593bd4747b8f",
   "metadata": {},
   "outputs": [
    {
     "name": "stdout",
     "output_type": "stream",
     "text": [
      "Name: ['HIP 53721']\n",
      "is located at <SkyCoord (ICRS): (ra, dec, distance) in (deg, deg, pc)\n",
      "    [(164.86655313, 40.43025571, 13.88753871)]>\n",
      "and has a V band magnitude of [5.15719986]\n"
     ]
    }
   ],
   "source": [
    "# let's check to make sure we have the right target\n",
    "print(f\"Name: {TL.Name}\")\n",
    "print(f\"is located at {TL.coords}\")\n",
    "print(f\"and has a V band magnitude of {TL.Vmag}\")"
   ]
  },
  {
   "cell_type": "code",
   "execution_count": 7,
   "id": "1cbc0750-dd52-4ca0-951e-c8e0dea1fc49",
   "metadata": {},
   "outputs": [
    {
     "name": "stdout",
     "output_type": "stream",
     "text": [
      "OBendTimes is: [1917.5625] d\n"
     ]
    }
   ],
   "source": [
    "# create a Timekeeping object and advance the mission time a bit\n",
    "TK = EXOSIMS.Prototypes.TimeKeeping.TimeKeeping(missionLife = 5.25)   # 63 months in years is 5.25, 21 months is 1.75\n",
    "TK.allocate_time(21*30.4375*u.d);"
   ]
  },
  {
   "cell_type": "code",
   "execution_count": 8,
   "id": "27f2e3a2-0c95-4cc1-a92a-6c737609d1f9",
   "metadata": {},
   "outputs": [
    {
     "data": {
      "text/plain": [
       "{'instName': 'Optimistic_NF_Imager',\n",
       " 'systName': 'DRM_HLC-565',\n",
       " 'detectionMode': True,\n",
       " 'ContrastScenario': '2019_PDR_Update',\n",
       " 'SNR': 5.0,\n",
       " 'tau_pol': 1,\n",
       " 'GCRFlux': 5,\n",
       " 'photons_per_relativistic_event': 250,\n",
       " 'luminescingOpticalArea': 0.7854,\n",
       " 'OpticalThickness': 4,\n",
       " 'luminescingOpticalDistance': 0.1,\n",
       " 's_baffling': 0.001,\n",
       " 'timeMultiplier': 1.0,\n",
       " 'inst': {'name': 'Optimistic_NF_Imager',\n",
       "  'QE': <function EXOSIMS.Prototypes.OpticalSystem.OpticalSystem.populate_scienceInstruments.<locals>.<lambda>(l)>,\n",
       "  'FoV': <Quantity 9.5 arcsec>,\n",
       "  'pixelNumber': 1024.0,\n",
       "  'pixelSize': <Quantity 1.3e-05 m>,\n",
       "  'sread': 1.7e-06,\n",
       "  'kRN': 75,\n",
       "  'idark': <Quantity 3.e-05 1 / s>,\n",
       "  'CIC': 0.0021,\n",
       "  'CTE_derate': 0.93,\n",
       "  'dark_derate': 1,\n",
       "  'refl_derate': 1,\n",
       "  'MUF_thruput': 0.909,\n",
       "  'lam_d': 575.855987,\n",
       "  'lam_c': 508.0,\n",
       "  'k_samp': 0.2,\n",
       "  'texp': <Quantity 3. s>,\n",
       "  'ENF': 1.0,\n",
       "  'THPUT': '$CGI_PERF_DIR/CDR/Photometry/THPT_EB_NFB1_200730.csv',\n",
       "  'DET': '$CGI_PERF_DIR/CDR/Photometry/DET_CBE_210127.csv',\n",
       "  'optics': 0.5,\n",
       "  'pixelScale': <Quantity 0.02 arcsec>,\n",
       "  'Rs': 1.0,\n",
       "  'lenslSamp': 1.0,\n",
       "  'focal': <Quantity 134.07212406 m>,\n",
       "  'fnumber': 56.73809735954825,\n",
       "  'PCeff': 0.8,\n",
       "  'Nlensl': 5.0},\n",
       " 'syst': {'name': 'DRM_HLC-565',\n",
       "  'lam': <Quantity 575. nm>,\n",
       "  'BW': 0.1,\n",
       "  'Rs': 0,\n",
       "  'IWA': <Quantity 0.155 arcsec>,\n",
       "  'OWA': <Quantity 0.436 arcsec>,\n",
       "  'Nlensl': 5.0,\n",
       "  'lenslSamp': 2.0,\n",
       "  'koAngles_Sun': <Quantity [ 45., 180.] deg>,\n",
       "  'koAngles_Earth': <Quantity [ 45., 180.] deg>,\n",
       "  'koAngles_Moon': <Quantity [ 45., 180.] deg>,\n",
       "  'koAngles_Small': <Quantity [  1., 180.] deg>,\n",
       "  'occ_trans': <function EXOSIMS.Prototypes.OpticalSystem.OpticalSystem.get_coro_param.<locals>.<lambda>(lam, s, Dinterp=<scipy.interpolate._interpolate.interp1d object at 0x1350d9310>, lam0=<Quantity 575. nm>)>,\n",
       "  'core_thruput': <function EXOSIMS.Prototypes.OpticalSystem.OpticalSystem.get_coro_param.<locals>.<lambda>(lam, s, Dinterp=<scipy.interpolate._interpolate.interp1d object at 0x1350d9400>, lam0=<Quantity 575. nm>)>,\n",
       "  'core_mean_intensity': <function EXOSIMS.Prototypes.OpticalSystem.OpticalSystem.get_core_mean_intensity.<locals>.<lambda>(lam, s, d=<Quantity 0. arcsec>, Dinterp=<scipy.interpolate._interpolate.interp1d object at 0x1350d9130>, lam0=<Quantity 575. nm>)>,\n",
       "  'core_area': <function EXOSIMS.Prototypes.OpticalSystem.OpticalSystem.get_coro_param.<locals>.<lambda>(lam, s, Dinterp=<scipy.interpolate._interpolate.interp1d object at 0x1347d91d0>, lam0=<Quantity 575. nm>)>,\n",
       "  'core_contrast': <function EXOSIMS.Prototypes.OpticalSystem.OpticalSystem.get_coro_param.<locals>.<lambda>(lam, s, Dinterp=<scipy.interpolate._interpolate.interp1d object at 0x1350d9220>, lam0=<Quantity 575. nm>)>,\n",
       "  'core_platescale': <Quantity 0.01505742 arcsec>,\n",
       "  'core_stability': '$CGI_PERF_DIR/CDR/Cstability/CS_HLC_NFIM_200520_SCI.csv',\n",
       "  'core_stability_setting': 'MCBE',\n",
       "  'core_stability_interp': True,\n",
       "  'deltaLam': <Quantity 57.5 nm>,\n",
       "  'input_angle_units': 'arcsec',\n",
       "  'core_platescale_units': None,\n",
       "  'contrast_floor': None,\n",
       "  'csv_angsep_colname': 'r_as',\n",
       "  'optics': 1.0,\n",
       "  'occulter': False,\n",
       "  'ohTime': <Quantity 1. d>,\n",
       "  'input_angle_unit_value': <Quantity 1. arcsec>},\n",
       " 'lam': <Quantity 575. nm>,\n",
       " 'deltaLam': <Quantity 57.5 nm>,\n",
       " 'BW': 0.1,\n",
       " 'IWA': <Quantity 0.155 arcsec>,\n",
       " 'OWA': <Quantity 0.436 arcsec>,\n",
       " 'bandpass_model': 'box',\n",
       " 'bandpass_step': <Quantity 0.1 nm>,\n",
       " 'bandpass': <synphot.spectrum.SpectralElement at 0x135080090>,\n",
       " 'F0': <Quantity 522526.0818204 ph / (s cm2)>,\n",
       " 'attenuation': 0.5,\n",
       " 'deltaLam_eff': <Quantity 57.5 nm>,\n",
       " 'losses': <Quantity [1.67271473] m2 / ph>,\n",
       " 'radDos': 0.0,\n",
       " 'hex': 'd1d6f86e6efbf34de71cd3a5d3786e11',\n",
       " 'index': 1}"
      ]
     },
     "execution_count": 8,
     "metadata": {},
     "output_type": "execute_result"
    }
   ],
   "source": [
    "# Grab the band 1 observing mode\n",
    "mode = list(filter(lambda mode: mode['instName'] == 'Optimistic_NF_Imager', OS.observingModes))[0] # Band 1\n",
    "mode"
   ]
  },
  {
   "cell_type": "code",
   "execution_count": 9,
   "id": "292b9ceb-bc59-4250-9f9d-95adc632faa5",
   "metadata": {},
   "outputs": [],
   "source": [
    "# set values necessary for integration time calculation\n",
    "(sInds, fZ, dMags, WAs) = ([0], #index of star in target list\n",
    "                        TL.ZodiacalLight.fZ0, #local zodiacal light\n",
    "                        np.array([20]), #dMag limit to integrate to\n",
    "                        (3.6*u.AU/TL.dist[0]).to(u.mas,equivalencies=u.dimensionless_angles()), #WA of object\n",
    "                        )\n",
    "fEZ = TL.ZodiacalLight.fEZ(TL.MV[sInds], [90]*u.deg, 3.6*u.AU ) # exozodiacal light"
   ]
  },
  {
   "cell_type": "code",
   "execution_count": 10,
   "id": "650b0ae3-5303-4a33-9d5b-db5e58e8ea3f",
   "metadata": {},
   "outputs": [
    {
     "data": {
      "text/latex": [
       "$[0.026621365] \\; \\mathrm{d}$"
      ],
      "text/plain": [
       "<Quantity [0.02662137] d>"
      ]
     },
     "execution_count": 10,
     "metadata": {},
     "output_type": "execute_result"
    }
   ],
   "source": [
    "intTimes = OS.calc_intTime(TL, sInds, fZ, fEZ, dMags, WAs, mode, TK=TK)\n",
    "intTimes"
   ]
  },
  {
   "cell_type": "code",
   "execution_count": 11,
   "id": "86a815f5-e50c-4641-8ff7-b087c6ceb312",
   "metadata": {},
   "outputs": [],
   "source": [
    "# now let's try a range of delta-mags\n",
    "dMags = np.linspace(19, 23, 100)\n",
    "intTimes = OS.calc_intTime(TL, sInds, fZ, fEZ, dMags, WAs, mode, TK=TK)"
   ]
  },
  {
   "cell_type": "code",
   "execution_count": 12,
   "id": "6939aac3-aef5-46dc-8b62-a93305d2a340",
   "metadata": {},
   "outputs": [
    {
     "data": {
      "image/png": "[encoded data removed]",
      "text/plain": [
       "<Figure size 640x480 with 1 Axes>"
      ]
     },
     "metadata": {},
     "output_type": "display_data"
    }
   ],
   "source": [
    "plt.figure()\n",
    "plt.semilogy(dMags, intTimes)\n",
    "plt.xlabel(r\"Target $\\Delta$mag\")\n",
    "plt.ylabel(f\"Integration Time ({intTimes.unit})\")\n",
    "plt.title(fr\"Maximum Achievable $\\Delta$mag = {np.min(dMags[np.isnan(intTimes)]) :.2f}\");"
   ]
  },
  {
   "cell_type": "code",
   "execution_count": null,
   "id": "30b3f29a-4a33-4e40-a3b3-e89eeb4560d0",
   "metadata": {},
   "outputs": [],
   "source": []
  }
 ],
 "metadata": {
  "kernelspec": {
   "display_name": "Python 3 (ipykernel)",
   "language": "python",
   "name": "python3"
  },
  "language_info": {
   "codemirror_mode": {
    "name": "ipython",
    "version": 3
   },
   "file_extension": ".py",
   "mimetype": "text/x-python",
   "name": "python",
   "nbconvert_exporter": "python",
   "pygments_lexer": "ipython3",
   "version": "3.12.10"
  }
 },
 "nbformat": 4,
 "nbformat_minor": 5
}
